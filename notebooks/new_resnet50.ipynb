{
 "cells": [
  {
   "cell_type": "code",
   "execution_count": 1,
   "metadata": {
    "collapsed": true
   },
   "outputs": [],
   "source": [
    "%reload_ext autoreload\n",
    "%autoreload 2\n",
    "%matplotlib inline"
   ]
  },
  {
   "cell_type": "code",
   "execution_count": 2,
   "metadata": {
    "collapsed": true
   },
   "outputs": [],
   "source": [
    "import sys\n",
    "LOCAL_FAST_AI = '/Users/krishnakalyan3/Educational/FastAI/fastai/'\n",
    "AWS_FAST_AI = '/home/ubuntu/fastai'\n",
    "sys.path.append(AWS_FAST_AI)"
   ]
  },
  {
   "cell_type": "code",
   "execution_count": 3,
   "metadata": {
    "collapsed": true
   },
   "outputs": [],
   "source": [
    "from fastai.transforms import * \n",
    "from fastai.conv_learner import * \n",
    "from fastai.model import *\n",
    "from fastai.dataset import * \n",
    "from fastai.sgdr import *\n",
    "from fastai.plots import *"
   ]
  },
  {
   "cell_type": "code",
   "execution_count": 4,
   "metadata": {
    "collapsed": true
   },
   "outputs": [],
   "source": [
    "PATH = '/home/ubuntu/Plant/data_seg/'"
   ]
  },
  {
   "cell_type": "code",
   "execution_count": 57,
   "metadata": {},
   "outputs": [
    {
     "data": {
      "text/plain": [
       "(4750, 95)"
      ]
     },
     "execution_count": 57,
     "metadata": {},
     "output_type": "execute_result"
    }
   ],
   "source": [
    "label_csv = f'{PATH}labels.csv'\n",
    "n = len(list(open(label_csv)))-1\n",
    "val_idxs = get_cv_idxs(n, val_pct=.02)\n",
    "n, len(val_idxs)"
   ]
  },
  {
   "cell_type": "code",
   "execution_count": 6,
   "metadata": {
    "collapsed": true
   },
   "outputs": [],
   "source": [
    "f_model = resnet50\n",
    "sz=250\n",
    "tfms = tfms_from_model(f_model, sz, aug_tfms=transforms_top_down, max_zoom=1.05)"
   ]
  },
  {
   "cell_type": "code",
   "execution_count": 8,
   "metadata": {
    "collapsed": true
   },
   "outputs": [],
   "source": [
    "data = ImageClassifierData.from_csv(PATH, folder='train', csv_fname=f'{PATH}labels.csv',\n",
    "                                    tfms=tfms, val_idxs=[0], test_name='test', bs=64)"
   ]
  },
  {
   "cell_type": "code",
   "execution_count": 11,
   "metadata": {},
   "outputs": [
    {
     "name": "stdout",
     "output_type": "stream",
     "text": [
      "\n",
      "100%|██████████| 75/75 [01:06<00:00,  1.13it/s]\n",
      "100%|██████████| 1/1 [00:00<00:00, 42.45it/s]\n",
      "100%|██████████| 13/13 [00:09<00:00,  1.40it/s]\n"
     ]
    }
   ],
   "source": [
    "learn = ConvLearner.pretrained(f_model, data, precompute=True)"
   ]
  },
  {
   "cell_type": "code",
   "execution_count": 12,
   "metadata": {},
   "outputs": [
    {
     "data": {
      "application/vnd.jupyter.widget-view+json": {
       "model_id": "eb9adbc845cb41f388268c93cb1e41fd",
       "version_major": 2,
       "version_minor": 0
      },
      "text/plain": [
       "A Jupyter Widget"
      ]
     },
     "metadata": {},
     "output_type": "display_data"
    },
    {
     "name": "stdout",
     "output_type": "stream",
     "text": [
      " 75%|███████▍  | 56/75 [00:03<00:01, 15.80it/s, loss=14.6]\n",
      "                                                          \r"
     ]
    },
    {
     "data": {
      "image/png": "[encoded data removed]",
      "text/plain": [
       "<matplotlib.figure.Figure at 0x7fc3bd235d68>"
      ]
     },
     "metadata": {},
     "output_type": "display_data"
    }
   ],
   "source": [
    "lrf=learn.lr_find()\n",
    "learn.sched.plot_lr()"
   ]
  },
  {
   "cell_type": "code",
   "execution_count": 13,
   "metadata": {},
   "outputs": [
    {
     "data": {
      "image/png": "[encoded data removed]",
      "text/plain": [
       "<matplotlib.figure.Figure at 0x7fc400c9fe48>"
      ]
     },
     "metadata": {},
     "output_type": "display_data"
    }
   ],
   "source": [
    "learn.sched.plot()"
   ]
  },
  {
   "cell_type": "code",
   "execution_count": 21,
   "metadata": {},
   "outputs": [
    {
     "data": {
      "application/vnd.jupyter.widget-view+json": {
       "model_id": "287dcfcf588540a1bb45b0697851f671",
       "version_major": 2,
       "version_minor": 0
      },
      "text/plain": [
       "A Jupyter Widget"
      ]
     },
     "metadata": {},
     "output_type": "display_data"
    },
    {
     "name": "stdout",
     "output_type": "stream",
     "text": [
      "epoch      trn_loss   val_loss   accuracy                 \n",
      "    0      1.235992   0.308529   1.0       \n",
      "    1      0.838575   0.485022   1.0                       \n",
      "    2      0.688456   0.361709   1.0                       \n",
      "\n"
     ]
    },
    {
     "data": {
      "text/plain": [
       "[0.36170864, 1.0]"
      ]
     },
     "execution_count": 21,
     "metadata": {},
     "output_type": "execute_result"
    }
   ],
   "source": [
    "learn.precompute=False\n",
    "lr = 1e-1/2\n",
    "learn.fit(0.002, 3, cycle_len=1)"
   ]
  },
  {
   "cell_type": "code",
   "execution_count": 22,
   "metadata": {},
   "outputs": [
    {
     "data": {
      "application/vnd.jupyter.widget-view+json": {
       "model_id": "c47e4dd9cdba48bcab698178263d53d8",
       "version_major": 2,
       "version_minor": 0
      },
      "text/plain": [
       "A Jupyter Widget"
      ]
     },
     "metadata": {},
     "output_type": "display_data"
    },
    {
     "name": "stdout",
     "output_type": "stream",
     "text": [
      "epoch      trn_loss   val_loss   accuracy                  \n",
      "    0      0.578964   0.085431   1.0       \n",
      "    1      0.297616   0.030622   1.0                       \n",
      "    2      0.283636   0.018444   1.0                       \n",
      "    3      0.223895   0.002299   1.0                       \n",
      "    4      0.159378   0.001577   1.0                       \n",
      "    5      0.139534   0.00487    1.0                       \n",
      "    6      0.179635   0.005542   1.0                       \n",
      "    7      0.157002   0.008095   1.0                       \n",
      "    8      0.153342   0.101846   1.0                       \n",
      "    9      0.130131   0.005877   1.0                       \n",
      "    10     0.099488   0.013563   1.0                        \n",
      "    11     0.078317   0.007833   1.0                        \n",
      "    12     0.074105   0.007501   1.0                        \n",
      "    13     0.065118   0.005014   1.0                        \n",
      "\n"
     ]
    },
    {
     "data": {
      "text/plain": [
       "[0.0050144196, 1.0]"
      ]
     },
     "execution_count": 22,
     "metadata": {},
     "output_type": "execute_result"
    }
   ],
   "source": [
    "learn.unfreeze()\n",
    "lr=np.array([lr/18,lr/6,lr/2])\n",
    "learn.fit(lr, 3, cycle_len=2, cycle_mult=2)"
   ]
  },
  {
   "cell_type": "code",
   "execution_count": 23,
   "metadata": {},
   "outputs": [
    {
     "data": {
      "application/vnd.jupyter.widget-view+json": {
       "model_id": "30e5bf1c824b4f698f2cfad0874c1f3b",
       "version_major": 2,
       "version_minor": 0
      },
      "text/plain": [
       "A Jupyter Widget"
      ]
     },
     "metadata": {},
     "output_type": "display_data"
    },
    {
     "name": "stdout",
     "output_type": "stream",
     "text": [
      "epoch      trn_loss   val_loss   accuracy                   \n",
      "    0      0.081708   0.06997    1.0       \n",
      "    1      0.07793    0.010083   1.0                        \n",
      "    2      0.113374   0.060834   1.0                        \n",
      "    3      0.11215    0.000601   1.0                       \n",
      "    4      0.117128   0.018132   1.0                       \n",
      "    5      0.082844   0.002017   1.0                        \n",
      "    6      0.063342   0.144132   1.0                        \n",
      "    7      0.047243   0.040238   1.0                        \n",
      "    8      0.048133   0.033265   1.0                        \n",
      "    9      0.039196   0.026241   1.0                        \n",
      "    10     0.066818   0.01653    1.0                        \n",
      "    11     0.076769   0.277777   1.0                        \n",
      "    12     0.08717    0.262033   1.0                        \n",
      "    13     0.111331   0.699851   0.0                        \n",
      "    14     0.082359   0.002069   1.0                        \n",
      "    15     0.071959   0.005472   1.0                        \n",
      "    16     0.07218    0.221047   1.0                        \n",
      "    17     0.057911   0.009031   1.0                        \n",
      "    18     0.043548   0.006654   1.0                        \n",
      "    19     0.057431   0.186991   1.0                        \n",
      "    20     0.053101   0.034428   1.0                        \n",
      "    21     0.065202   0.187976   1.0                        \n",
      "    22     0.048443   0.006273   1.0                        \n",
      "    23     0.038012   0.011624   1.0                        \n",
      "    24     0.039453   0.001211   1.0                        \n",
      "    25     0.031082   0.024997   1.0                        \n",
      "    26     0.022743   0.001074   1.0                        \n",
      "    27     0.017411   0.047346   1.0                        \n",
      "    28     0.018838   0.00088    1.0                        \n",
      "    29     0.026247   0.002114   1.0                        \n",
      "    30     0.021117   0.019446   1.0                        \n",
      "    31     0.022663   0.015499   1.0                        \n",
      "    32     0.01583    0.004419   1.0                        \n",
      "    33     0.022037   0.092628   1.0                        \n",
      "    34     0.012436   0.014709   1.0                        \n",
      "    35     0.011722   0.022454   1.0                         \n",
      "    36     0.010234   0.035345   1.0                         \n",
      "    37     0.011124   0.067626   1.0                         \n",
      "    38     0.009623   0.052217   1.0                         \n",
      "    39     0.008063   0.072865   1.0                         \n",
      "    40     0.010485   0.095394   1.0                         \n",
      "    41     0.009746   0.071486   1.0                         \n",
      "\n"
     ]
    },
    {
     "data": {
      "text/plain": [
       "[0.071485519, 1.0]"
      ]
     },
     "execution_count": 23,
     "metadata": {},
     "output_type": "execute_result"
    }
   ],
   "source": [
    "learn.fit(lr, 3, cycle_len=2, cycle_mult=4)"
   ]
  },
  {
   "cell_type": "code",
   "execution_count": 26,
   "metadata": {
    "collapsed": true
   },
   "outputs": [],
   "source": [
    "learn.save(f'resnet_50_{sz}')"
   ]
  },
  {
   "cell_type": "markdown",
   "metadata": {},
   "source": [
    "# Test Predictions"
   ]
  },
  {
   "cell_type": "code",
   "execution_count": 40,
   "metadata": {
    "collapsed": true
   },
   "outputs": [],
   "source": [
    "log_preds_test = learn.predict(is_test=True)\n",
    "log_preds_test = np.argmax(log_preds_test, axis=1)\n",
    "probs = np.exp(log_preds_test)"
   ]
  },
  {
   "cell_type": "code",
   "execution_count": 41,
   "metadata": {
    "collapsed": true
   },
   "outputs": [],
   "source": [
    "preds_classes = [data.classes[i].replace(\"_\", \" \") for i in log_preds_test]\n",
    "submission = pd.DataFrame({'file': os.listdir(f'{PATH}test'), 'species': preds_classes})\n",
    "submission.to_csv(PATH + 'submission_2.csv', index=False)"
   ]
  },
  {
   "cell_type": "code",
   "execution_count": 58,
   "metadata": {
    "collapsed": true
   },
   "outputs": [],
   "source": [
    "def load_weight_predict(PATH, weight_name):\n",
    "    f_model = resnet50\n",
    "    sz = 250\n",
    "\n",
    "    tfms = tfms_from_model(f_model, sz, aug_tfms=transforms_top_down, max_zoom=1.05)\n",
    "\n",
    "    data = ImageClassifierData.from_csv(PATH, folder='train', test_name='test', csv_fname=f'{PATH}labels.csv',\n",
    "                                        tfms=tfms, bs=64)\n",
    "    learn = ConvLearner.pretrained(f_model, data, precompute=False)\n",
    "    learn.unfreeze()\n",
    "    learn.load(weight_name)\n",
    "\n",
    "    log_preds_test = learn.predict(is_test=True)\n",
    "    log_preds_test = np.argmax(log_preds_test, axis=1)\n",
    "    probs = np.exp(log_preds_test)\n",
    "    return probs"
   ]
  },
  {
   "cell_type": "code",
   "execution_count": 60,
   "metadata": {
    "collapsed": true
   },
   "outputs": [],
   "source": [
    "probs = load_weight_predict(PATH, 'resnet_50_250')"
   ]
  },
  {
   "cell_type": "code",
   "execution_count": 61,
   "metadata": {
    "collapsed": true
   },
   "outputs": [],
   "source": [
    "def submit(PATH, preds_classes, file_name='submit.csv'):\n",
    "    import pandas as pd\n",
    "    import os\n",
    "\n",
    "    submission = pd.DataFrame({'file': os.listdir(f'{PATH}test'), 'species': preds_classes})\n",
    "    submission.to_csv(PATH+file_name, index=False)"
   ]
  },
  {
   "cell_type": "code",
   "execution_count": 62,
   "metadata": {
    "collapsed": true
   },
   "outputs": [],
   "source": [
    "submit(PATH, probs)"
   ]
  },
  {
   "cell_type": "code",
   "execution_count": null,
   "metadata": {
    "collapsed": true
   },
   "outputs": [],
   "source": []
  }
 ],
 "metadata": {
  "kernelspec": {
   "display_name": "Python 3",
   "language": "python",
   "name": "python3"
  },
  "language_info": {
   "codemirror_mode": {
    "name": "ipython",
    "version": 3
   },
   "file_extension": ".py",
   "mimetype": "text/x-python",
   "name": "python",
   "nbconvert_exporter": "python",
   "pygments_lexer": "ipython3",
   "version": "3.6.3"
  }
 },
 "nbformat": 4,
 "nbformat_minor": 2
}
