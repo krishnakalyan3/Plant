{
 "cells": [
  {
   "cell_type": "code",
   "execution_count": 2,
   "metadata": {
    "collapsed": true
   },
   "outputs": [],
   "source": [
    "%reload_ext autoreload\n",
    "%autoreload 2\n",
    "%matplotlib inline"
   ]
  },
  {
   "cell_type": "code",
   "execution_count": 7,
   "metadata": {
    "collapsed": true
   },
   "outputs": [],
   "source": [
    "ORIGINAL_PATH = '/home/ubuntu/Plant/data/'\n",
    "PROC_PATH = '/home/ubuntu/Plant/data_seg/'"
   ]
  },
  {
   "cell_type": "code",
   "execution_count": 8,
   "metadata": {
    "collapsed": true
   },
   "outputs": [],
   "source": [
    "# TODO\n",
    "# move labels.csv to proc path\n",
    "# process train\n",
    "# process test"
   ]
  },
  {
   "cell_type": "code",
   "execution_count": 46,
   "metadata": {
    "collapsed": true
   },
   "outputs": [],
   "source": [
    "import sys\n",
    "LOCAL_FAST_AI = '/Users/krishnakalyan3/Educational/FastAI/fastai/'\n",
    "AWS_FAST_AI = '/home/ubuntu/fastai'\n",
    "sys.path.append(AWS_FAST_AI)"
   ]
  },
  {
   "cell_type": "code",
   "execution_count": 47,
   "metadata": {},
   "outputs": [],
   "source": [
    "from fastai.transforms import * \n",
    "from fastai.conv_learner import * \n",
    "from fastai.model import *\n",
    "from fastai.dataset import * \n",
    "from fastai.sgdr import *\n",
    "from fastai.plots import *\n",
    "from shutil import copyfile\n",
    "import os\n",
    "from PIL import Image"
   ]
  },
  {
   "cell_type": "code",
   "execution_count": 48,
   "metadata": {
    "collapsed": true
   },
   "outputs": [],
   "source": [
    "def create_mask_for_plant(image):\n",
    "    image_hsv = cv2.cvtColor(image, cv2.COLOR_BGR2HSV)\n",
    "\n",
    "    sensitivity = 35\n",
    "    lower_hsv = np.array([60 - sensitivity, 100, 50])\n",
    "    upper_hsv = np.array([60 + sensitivity, 255, 255])\n",
    "\n",
    "    mask = cv2.inRange(image_hsv, lower_hsv, upper_hsv)\n",
    "    kernel = cv2.getStructuringElement(cv2.MORPH_ELLIPSE, (11,11))\n",
    "    mask = cv2.morphologyEx(mask, cv2.MORPH_CLOSE, kernel)\n",
    "    \n",
    "    return mask\n",
    "\n",
    "def segment_plant(image):\n",
    "    mask = create_mask_for_plant(image)\n",
    "    output = cv2.bitwise_and(image, image, mask = mask)\n",
    "    return output\n",
    "\n",
    "def sharpen_image(image):\n",
    "    image_blurred = cv2.GaussianBlur(image, (0, 0), 3)\n",
    "    image_sharp = cv2.addWeighted(image, 1.5, image_blurred, -0.5, 0)\n",
    "    return image_sharp"
   ]
  },
  {
   "cell_type": "code",
   "execution_count": 52,
   "metadata": {
    "collapsed": true
   },
   "outputs": [],
   "source": [
    "def proc_new(PATH, DEST_PATH):\n",
    "    image = cv2.imread(PATH, cv2.IMREAD_COLOR)\n",
    "    image_seg = segment_plant(image)\n",
    "    image_sharp = sharpen_image(image_seg)\n",
    "    im = Image.fromarray(image_sharp)\n",
    "    im.save(DEST_PATH)"
   ]
  },
  {
   "cell_type": "code",
   "execution_count": 67,
   "metadata": {},
   "outputs": [],
   "source": [
    "def proc_dir(PATH_FROM, PATH_TO, root_folder):\n",
    "    from_path_dir = PATH_FROM + root_folder\n",
    "    to_path_dir = PATH_TO + root_folder\n",
    "    sub_files = os.listdir(from_path_dir)\n",
    "    \n",
    "    for img in sub_files:\n",
    "        DEST_PATH = PATH_TO+root_folder+img\n",
    "        proc_new(from_path_dir+img, DEST_PATH)\n",
    "        \n",
    "    print('{} complete'.format(root_folder))"
   ]
  },
  {
   "cell_type": "code",
   "execution_count": 68,
   "metadata": {},
   "outputs": [
    {
     "name": "stdout",
     "output_type": "stream",
     "text": [
      "test/ complete\n"
     ]
    }
   ],
   "source": [
    "proc_dir(ORIGINAL_PATH, PROC_PATH, 'test/') "
   ]
  },
  {
   "cell_type": "code",
   "execution_count": 59,
   "metadata": {
    "collapsed": true
   },
   "outputs": [],
   "source": [
    "def proc_data(PATH_FROM, PATH_TO):\n",
    "    \n",
    "    # Create proc dir\n",
    "    os.makedirs(PATH_TO+'train', exist_ok=True)\n",
    "    os.makedirs(PATH_TO+'test', exist_ok=True)\n",
    "    \n",
    "    # Copy meta files\n",
    "    copy_meta = ['labels.csv']\n",
    "    for i in copy_meta:\n",
    "        copyfile(PATH_FROM+i, PATH_TO+i)\n",
    "    \n",
    "    # process dirs\n",
    "    root_folders = ['train/', 'test/']\n",
    "    for i in root_folders:\n",
    "        proc_dir(PATH_FROM, PATH_TO, i)\n",
    "        \n",
    "    print('all complete')"
   ]
  },
  {
   "cell_type": "code",
   "execution_count": 60,
   "metadata": {},
   "outputs": [],
   "source": [
    "proc_data(ORIGINAL_PATH, PROC_PATH)"
   ]
  },
  {
   "cell_type": "code",
   "execution_count": null,
   "metadata": {
    "collapsed": true
   },
   "outputs": [],
   "source": []
  }
 ],
 "metadata": {
  "kernelspec": {
   "display_name": "Python 3",
   "language": "python",
   "name": "python3"
  },
  "language_info": {
   "codemirror_mode": {
    "name": "ipython",
    "version": 3
   },
   "file_extension": ".py",
   "mimetype": "text/x-python",
   "name": "python",
   "nbconvert_exporter": "python",
   "pygments_lexer": "ipython3",
   "version": "3.6.3"
  }
 },
 "nbformat": 4,
 "nbformat_minor": 2
}
