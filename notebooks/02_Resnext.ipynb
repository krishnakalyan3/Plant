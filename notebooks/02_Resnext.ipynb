{
 "cells": [
  {
   "cell_type": "code",
   "execution_count": 1,
   "metadata": {},
   "outputs": [],
   "source": [
    "%reload_ext autoreload\n",
    "%autoreload 2\n",
    "%matplotlib inline"
   ]
  },
  {
   "cell_type": "code",
   "execution_count": 2,
   "metadata": {},
   "outputs": [],
   "source": [
    "import sys\n",
    "LOCAL_FAST_AI = '/Users/krishnakalyan3/Educational/FastAI/fastai/'\n",
    "AWS_FAST_AI = '/home/ubuntu/fastai'\n",
    "sys.path.append(AWS_FAST_AI)"
   ]
  },
  {
   "cell_type": "code",
   "execution_count": 3,
   "metadata": {},
   "outputs": [],
   "source": [
    "from fastai.imports import *\n",
    "from glob import iglob\n",
    "import pprint \n",
    "from fastai.transforms import * \n",
    "from fastai.conv_learner import * \n",
    "from fastai.model import *\n",
    "from fastai.dataset import * \n",
    "from fastai.sgdr import *\n",
    "from fastai.plots import *\n",
    "from fastai.models.nasnet import nasnetalarge\n",
    "\n",
    "PATH = '/home/ubuntu/Plant/data/'"
   ]
  },
  {
   "cell_type": "markdown",
   "metadata": {},
   "source": [
    "Create Label File"
   ]
  },
  {
   "cell_type": "raw",
   "metadata": {},
   "source": [
    "df = pd.DataFrame(columns=[\"file\", \"species\"])\n",
    "for image in glob(PATH + \"train/**/*.png\"):\n",
    "    dir_ = image.split('/')\n",
    "    file_, species = dir_[-1], dir_[-2]\n",
    "\n",
    "    df = df.append({\n",
    "        \"file\": file_,\n",
    "        \"species\": species.replace(\" \", \"_\")\n",
    "        }, ignore_index=True)\n",
    "\n",
    "df.to_csv(PATH + 'labels.csv', index=False)"
   ]
  },
  {
   "cell_type": "markdown",
   "metadata": {},
   "source": [
    "Train Model"
   ]
  },
  {
   "cell_type": "code",
   "execution_count": 6,
   "metadata": {},
   "outputs": [
    {
     "data": {
      "text/plain": [
       "4750"
      ]
     },
     "execution_count": 6,
     "metadata": {},
     "output_type": "execute_result"
    }
   ],
   "source": [
    "label_csv = f'{PATH}labels.csv'\n",
    "n = len(list(open(label_csv)))-1\n",
    "val_idxs = get_cv_idxs(n)\n",
    "n"
   ]
  },
  {
   "cell_type": "code",
   "execution_count": 7,
   "metadata": {},
   "outputs": [],
   "source": [
    "f_model = resnext50\n",
    "sz=250\n",
    "tfms = tfms_from_model(f_model, sz, aug_tfms=transforms_top_down, max_zoom=1.05)"
   ]
  },
  {
   "cell_type": "code",
   "execution_count": 8,
   "metadata": {},
   "outputs": [
    {
     "name": "stdout",
     "output_type": "stream",
     "text": [
      "100%|██████████| 317/317 [00:59<00:00,  5.30it/s]\n",
      "100%|██████████| 80/80 [00:13<00:00,  5.78it/s]\n",
      "100%|██████████| 67/67 [00:11<00:00,  5.93it/s]\n"
     ]
    }
   ],
   "source": [
    "data = ImageClassifierData.from_csv(PATH, folder='train', csv_fname=f'{PATH}labels.csv',\n",
    "                                    tfms=tfms, val_idxs=val_idxs, test_name='test', bs=12)\n",
    "learn = ConvLearner.pretrained(f_model, data, precompute=True)"
   ]
  },
  {
   "cell_type": "code",
   "execution_count": 9,
   "metadata": {},
   "outputs": [
    {
     "data": {
      "application/vnd.jupyter.widget-view+json": {
       "model_id": "e69a4e07f35e47b6a95db8e0aac44d9d",
       "version_major": 2,
       "version_minor": 0
      },
      "text/html": [
       "<p>Failed to display Jupyter Widget of type <code>HBox</code>.</p>\n",
       "<p>\n",
       "  If you're reading this message in the Jupyter Notebook or JupyterLab Notebook, it may mean\n",
       "  that the widgets JavaScript is still loading. If this message persists, it\n",
       "  likely means that the widgets JavaScript library is either not installed or\n",
       "  not enabled. See the <a href=\"https://ipywidgets.readthedocs.io/en/stable/user_install.html\">Jupyter\n",
       "  Widgets Documentation</a> for setup instructions.\n",
       "</p>\n",
       "<p>\n",
       "  If you're reading this message in another frontend (for example, a static\n",
       "  rendering on GitHub or <a href=\"https://nbviewer.jupyter.org/\">NBViewer</a>),\n",
       "  it may mean that your frontend doesn't currently support widgets.\n",
       "</p>\n"
      ],
      "text/plain": [
       "HBox(children=(IntProgress(value=0, description='Epoch', max=1), HTML(value='')))"
      ]
     },
     "metadata": {},
     "output_type": "display_data"
    },
    {
     "name": "stdout",
     "output_type": "stream",
     "text": [
      "[ 0.       1.05343  0.54183  0.81979]                        \n",
      "\n"
     ]
    }
   ],
   "source": [
    "learn.fit(0.01, 1)"
   ]
  },
  {
   "cell_type": "code",
   "execution_count": 10,
   "metadata": {},
   "outputs": [
    {
     "data": {
      "application/vnd.jupyter.widget-view+json": {
       "model_id": "9c65db55c64640a09ebe6fce2101cdfa",
       "version_major": 2,
       "version_minor": 0
      },
      "text/html": [
       "<p>Failed to display Jupyter Widget of type <code>HBox</code>.</p>\n",
       "<p>\n",
       "  If you're reading this message in the Jupyter Notebook or JupyterLab Notebook, it may mean\n",
       "  that the widgets JavaScript is still loading. If this message persists, it\n",
       "  likely means that the widgets JavaScript library is either not installed or\n",
       "  not enabled. See the <a href=\"https://ipywidgets.readthedocs.io/en/stable/user_install.html\">Jupyter\n",
       "  Widgets Documentation</a> for setup instructions.\n",
       "</p>\n",
       "<p>\n",
       "  If you're reading this message in another frontend (for example, a static\n",
       "  rendering on GitHub or <a href=\"https://nbviewer.jupyter.org/\">NBViewer</a>),\n",
       "  it may mean that your frontend doesn't currently support widgets.\n",
       "</p>\n"
      ],
      "text/plain": [
       "HBox(children=(IntProgress(value=0, description='Epoch', max=1), HTML(value='')))"
      ]
     },
     "metadata": {},
     "output_type": "display_data"
    },
    {
     "name": "stdout",
     "output_type": "stream",
     "text": [
      " 73%|███████▎  | 231/317 [00:01<00:00, 130.17it/s, loss=2.96] \n",
      "                                                             \r"
     ]
    },
    {
     "data": {
      "image/png": "[encoded data removed]",
      "text/plain": [
       "<matplotlib.figure.Figure at 0x7f5e0da56d68>"
      ]
     },
     "metadata": {},
     "output_type": "display_data"
    }
   ],
   "source": [
    "lrf=learn.lr_find()\n",
    "learn.sched.plot()"
   ]
  },
  {
   "cell_type": "code",
   "execution_count": 11,
   "metadata": {},
   "outputs": [
    {
     "data": {
      "application/vnd.jupyter.widget-view+json": {
       "model_id": "b8b298f9975942b081fe6156fb3d7d43",
       "version_major": 2,
       "version_minor": 0
      },
      "text/html": [
       "<p>Failed to display Jupyter Widget of type <code>HBox</code>.</p>\n",
       "<p>\n",
       "  If you're reading this message in the Jupyter Notebook or JupyterLab Notebook, it may mean\n",
       "  that the widgets JavaScript is still loading. If this message persists, it\n",
       "  likely means that the widgets JavaScript library is either not installed or\n",
       "  not enabled. See the <a href=\"https://ipywidgets.readthedocs.io/en/stable/user_install.html\">Jupyter\n",
       "  Widgets Documentation</a> for setup instructions.\n",
       "</p>\n",
       "<p>\n",
       "  If you're reading this message in another frontend (for example, a static\n",
       "  rendering on GitHub or <a href=\"https://nbviewer.jupyter.org/\">NBViewer</a>),\n",
       "  it may mean that your frontend doesn't currently support widgets.\n",
       "</p>\n"
      ],
      "text/plain": [
       "HBox(children=(IntProgress(value=0, description='Epoch', max=7), HTML(value='')))"
      ]
     },
     "metadata": {},
     "output_type": "display_data"
    },
    {
     "name": "stdout",
     "output_type": "stream",
     "text": [
      "[ 0.       0.81384  0.41725  0.85938]                        \n",
      "[ 1.       0.72015  0.38186  0.875  ]                        \n",
      "[ 2.       0.65839  0.36713  0.87396]                        \n",
      "[ 3.       0.70971  0.38933  0.85938]                        \n",
      "[ 4.       0.59988  0.34959  0.87813]                        \n",
      "[ 5.       0.59358  0.31362  0.8875 ]                        \n",
      "[ 6.       0.52244  0.30947  0.88542]                        \n",
      "\n"
     ]
    }
   ],
   "source": [
    "lr = 1e-2\n",
    "learn.unfreeze()\n",
    "lr=np.array([lr/18,lr/6,lr/2])\n",
    "learn.fit(lr, 3, cycle_len=1, cycle_mult=2)"
   ]
  },
  {
   "cell_type": "code",
   "execution_count": 12,
   "metadata": {},
   "outputs": [
    {
     "data": {
      "application/vnd.jupyter.widget-view+json": {
       "model_id": "2c1f8abe57c24f6083e7994d5a714443",
       "version_major": 2,
       "version_minor": 0
      },
      "text/html": [
       "<p>Failed to display Jupyter Widget of type <code>HBox</code>.</p>\n",
       "<p>\n",
       "  If you're reading this message in the Jupyter Notebook or JupyterLab Notebook, it may mean\n",
       "  that the widgets JavaScript is still loading. If this message persists, it\n",
       "  likely means that the widgets JavaScript library is either not installed or\n",
       "  not enabled. See the <a href=\"https://ipywidgets.readthedocs.io/en/stable/user_install.html\">Jupyter\n",
       "  Widgets Documentation</a> for setup instructions.\n",
       "</p>\n",
       "<p>\n",
       "  If you're reading this message in another frontend (for example, a static\n",
       "  rendering on GitHub or <a href=\"https://nbviewer.jupyter.org/\">NBViewer</a>),\n",
       "  it may mean that your frontend doesn't currently support widgets.\n",
       "</p>\n"
      ],
      "text/plain": [
       "HBox(children=(IntProgress(value=0, description='Epoch', max=42), HTML(value='')))"
      ]
     },
     "metadata": {},
     "output_type": "display_data"
    },
    {
     "name": "stdout",
     "output_type": "stream",
     "text": [
      "[ 0.       0.60965  0.31667  0.88854]                        \n",
      "[ 1.       0.57743  0.3191   0.89062]                        \n",
      "[ 2.       0.58759  0.33475  0.87396]                        \n",
      "[ 3.       0.54904  0.29814  0.89375]                        \n",
      "[ 4.       0.55493  0.30723  0.8875 ]                        \n",
      "[ 5.       0.49095  0.30741  0.88646]                        \n",
      "[ 6.       0.46271  0.29119  0.89583]                        \n",
      "[ 7.       0.46768  0.28594  0.90104]                        \n",
      "[ 8.       0.40585  0.27577  0.90312]                        \n",
      "[ 9.       0.39704  0.27961  0.89792]                        \n",
      "[ 10.        0.48966   0.30703   0.89271]                    \n",
      "[ 11.        0.47799   0.30149   0.89687]                    \n",
      "[ 12.        0.45683   0.29768   0.89687]                    \n",
      "[ 13.        0.46646   0.30406   0.88438]                    \n",
      "[ 14.        0.4985    0.29721   0.90417]                    \n",
      "[ 15.        0.49217   0.28522   0.9    ]                    \n",
      "[ 16.        0.51656   0.28639   0.89896]                    \n",
      "[ 17.        0.42595   0.28475   0.89375]                    \n",
      "[ 18.        0.42527   0.28536   0.89583]                    \n",
      "[ 19.        0.4216    0.27909   0.89792]                    \n",
      "[ 20.        0.38927   0.26261   0.9125 ]                    \n",
      "[ 21.        0.41976   0.27396   0.89687]                    \n",
      "[ 22.        0.39579   0.26698   0.90521]                    \n",
      "[ 23.        0.39171   0.25878   0.90417]                    \n",
      "[ 24.        0.34299   0.26793   0.91042]                    \n",
      "[ 25.        0.36259   0.26333   0.90833]                    \n",
      "[ 26.        0.34089   0.26316   0.90104]                    \n",
      "[ 27.        0.31158   0.25532   0.90312]                    \n",
      "[ 28.        0.34138   0.23156   0.91458]                    \n",
      "[ 29.        0.33963   0.24413   0.90833]                    \n",
      "[ 30.        0.32429   0.23716   0.90625]                    \n",
      "[ 31.        0.33023   0.2373    0.91563]                    \n",
      "[ 32.        0.3261    0.23778   0.91146]                    \n",
      "[ 33.        0.29744   0.23197   0.91563]                    \n",
      "[ 34.        0.31294   0.22804   0.91667]                    \n",
      "[ 35.        0.31391   0.22963   0.91771]                    \n",
      "[ 36.        0.29911   0.23577   0.91146]                    \n",
      "[ 37.        0.31894   0.23111   0.91875]                    \n",
      "[ 38.        0.32221   0.23599   0.91667]                    \n",
      "[ 39.        0.30296   0.23176   0.91458]                    \n",
      "[ 40.        0.26385   0.2356    0.91042]                    \n",
      "[ 41.        0.2486    0.23632   0.91563]                    \n",
      "\n"
     ]
    }
   ],
   "source": [
    "learn.fit(lr, 3, cycle_len=2, cycle_mult=4)"
   ]
  },
  {
   "cell_type": "code",
   "execution_count": 15,
   "metadata": {},
   "outputs": [],
   "source": [
    "learn.save(f'resnext_50_250')"
   ]
  },
  {
   "cell_type": "markdown",
   "metadata": {},
   "source": [
    "Metrics"
   ]
  },
  {
   "cell_type": "code",
   "execution_count": 16,
   "metadata": {},
   "outputs": [],
   "source": [
    "def metrics(y, yhat):\n",
    "    from sklearn.metrics import confusion_matrix\n",
    "    from sklearn.metrics import f1_score\n",
    "    from sklearn.metrics import accuracy_score\n",
    "    cm = confusion_matrix(y, yhat)\n",
    "    f1 = f1_score(y, yhat, average='macro')\n",
    "    acc = accuracy_score(y, yhat)\n",
    "\n",
    "    # plt.matshow(cm)\n",
    "    return f1, acc, cm"
   ]
  },
  {
   "cell_type": "code",
   "execution_count": 17,
   "metadata": {},
   "outputs": [
    {
     "name": "stdout",
     "output_type": "stream",
     "text": [
      "                                             \r"
     ]
    }
   ],
   "source": [
    "log_preds,y = learn.TTA()"
   ]
  },
  {
   "cell_type": "code",
   "execution_count": 26,
   "metadata": {},
   "outputs": [],
   "source": [
    "lp = np.mean(log_preds, axis=0)\n",
    "lp_prob = np.exp(lp)\n",
    "yhat_train = np.argmax(lp_prob, axis=1)"
   ]
  },
  {
   "cell_type": "code",
   "execution_count": 27,
   "metadata": {},
   "outputs": [
    {
     "data": {
      "text/plain": [
       "(950,)"
      ]
     },
     "execution_count": 27,
     "metadata": {},
     "output_type": "execute_result"
    }
   ],
   "source": [
    "yhat_train.shape"
   ]
  },
  {
   "cell_type": "code",
   "execution_count": 28,
   "metadata": {},
   "outputs": [
    {
     "data": {
      "text/plain": [
       "(950,)"
      ]
     },
     "execution_count": 28,
     "metadata": {},
     "output_type": "execute_result"
    }
   ],
   "source": [
    "y.shape"
   ]
  },
  {
   "cell_type": "code",
   "execution_count": 29,
   "metadata": {},
   "outputs": [
    {
     "data": {
      "text/plain": [
       "(0.92739887804248122,\n",
       " 0.93684210526315792,\n",
       " array([[ 30,   0,   0,   0,   0,   0,  16,   0,   0,   0,   0,   0],\n",
       "        [  0,  89,   1,   0,   0,   0,   0,   0,   0,   0,   0,   0],\n",
       "        [  0,   1,  45,   0,   0,   0,   0,   0,   0,   0,   0,   0],\n",
       "        [  0,   0,   0, 118,   0,   1,   0,   0,   3,   0,   0,   0],\n",
       "        [  1,   0,   0,   1,  39,   0,   0,   1,   0,   0,   0,   0],\n",
       "        [  0,   1,   0,   1,   0,  90,   0,   0,   0,   0,   0,   1],\n",
       "        [ 12,   0,   0,   0,   0,   0, 119,   0,   0,   0,   0,   0],\n",
       "        [  0,   1,   0,   0,   0,   0,   0,  50,   2,   0,   0,   0],\n",
       "        [  0,   0,   0,   0,   0,   0,   0,   0,  93,   0,   0,   0],\n",
       "        [  0,   0,   0,   2,   0,   0,   0,   0,   7,  38,   1,   0],\n",
       "        [  1,   0,   0,   0,   0,   0,   1,   0,   0,   0, 101,   0],\n",
       "        [  1,   0,   0,   1,   0,   3,   0,   0,   0,   0,   0,  78]]))"
      ]
     },
     "execution_count": 29,
     "metadata": {},
     "output_type": "execute_result"
    }
   ],
   "source": [
    "metrics(y, yhat_train)"
   ]
  },
  {
   "cell_type": "code",
   "execution_count": 30,
   "metadata": {},
   "outputs": [
    {
     "data": {
      "text/plain": [
       "(793, 12)"
      ]
     },
     "execution_count": 30,
     "metadata": {},
     "output_type": "execute_result"
    }
   ],
   "source": [
    "log_preds_test = learn.predict(is_test=True)\n",
    "log_preds_test.shape"
   ]
  },
  {
   "cell_type": "code",
   "execution_count": 41,
   "metadata": {},
   "outputs": [],
   "source": [
    "lp_prob_test = np.exp(log_preds_test)\n",
    "yhat_test = np.argmax(lp_prob_test, axis=1)"
   ]
  },
  {
   "cell_type": "code",
   "execution_count": 45,
   "metadata": {},
   "outputs": [
    {
     "data": {
      "text/plain": [
       "'/home/ubuntu/Plant/data/'"
      ]
     },
     "execution_count": 45,
     "metadata": {},
     "output_type": "execute_result"
    }
   ],
   "source": [
    "PATH"
   ]
  },
  {
   "cell_type": "code",
   "execution_count": 50,
   "metadata": {},
   "outputs": [],
   "source": [
    "preds_classes = [data.classes[i].replace(\"_\", \" \") for i in yhat_test]\n",
    "#submission = pd.DataFrame({'file': os.listdir(f'{PATH}test'), 'species': preds_classes})"
   ]
  },
  {
   "cell_type": "code",
   "execution_count": 49,
   "metadata": {},
   "outputs": [],
   "source": [
    "#submission.to_csv(PATH + 'submission_10.csv', index=False)"
   ]
  },
  {
   "cell_type": "code",
   "execution_count": null,
   "metadata": {},
   "outputs": [],
   "source": []
  }
 ],
 "metadata": {
  "kernelspec": {
   "display_name": "Python 3",
   "language": "python",
   "name": "python3"
  },
  "language_info": {
   "codemirror_mode": {
    "name": "ipython",
    "version": 3
   },
   "file_extension": ".py",
   "mimetype": "text/x-python",
   "name": "python",
   "nbconvert_exporter": "python",
   "pygments_lexer": "ipython3",
   "version": "3.6.3"
  }
 },
 "nbformat": 4,
 "nbformat_minor": 2
}
