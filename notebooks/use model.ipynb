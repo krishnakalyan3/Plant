{
 "cells": [
  {
   "cell_type": "code",
   "execution_count": 53,
   "metadata": {
    "collapsed": true
   },
   "outputs": [],
   "source": [
    "%reload_ext autoreload\n",
    "%autoreload 2\n",
    "%matplotlib inline"
   ]
  },
  {
   "cell_type": "code",
   "execution_count": 54,
   "metadata": {
    "collapsed": true
   },
   "outputs": [],
   "source": [
    "import sys\n",
    "LOCAL_FAST_AI = '/Users/krishnakalyan3/Educational/FastAI/fastai/'\n",
    "AWS_FAST_AI = '/home/ubuntu/fastai'\n",
    "sys.path.append(AWS_FAST_AI)"
   ]
  },
  {
   "cell_type": "code",
   "execution_count": 55,
   "metadata": {
    "collapsed": true
   },
   "outputs": [],
   "source": [
    "from fastai.transforms import * \n",
    "from fastai.conv_learner import * \n",
    "from fastai.model import *\n",
    "from fastai.dataset import * \n",
    "from fastai.sgdr import *\n",
    "from fastai.plots import *"
   ]
  },
  {
   "cell_type": "code",
   "execution_count": 56,
   "metadata": {
    "collapsed": true
   },
   "outputs": [],
   "source": [
    "PATH = '/home/ubuntu/Plant/data_all/'"
   ]
  },
  {
   "cell_type": "code",
   "execution_count": 57,
   "metadata": {},
   "outputs": [
    {
     "data": {
      "text/plain": [
       "(5544, 1108)"
      ]
     },
     "execution_count": 57,
     "metadata": {},
     "output_type": "execute_result"
    }
   ],
   "source": [
    "label_csv = f'{PATH}all.csv'\n",
    "n = len(list(open(label_csv)))-1\n",
    "val_idxs = get_cv_idxs(n, val_pct=.20)\n",
    "n, len(val_idxs)"
   ]
  },
  {
   "cell_type": "code",
   "execution_count": 58,
   "metadata": {
    "collapsed": true
   },
   "outputs": [],
   "source": [
    "f_model = resnet50\n",
    "sz=250\n",
    "tfms = tfms_from_model(f_model, sz, aug_tfms=transforms_top_down, max_zoom=1.05)"
   ]
  },
  {
   "cell_type": "code",
   "execution_count": 59,
   "metadata": {
    "collapsed": true
   },
   "outputs": [],
   "source": [
    "data = ImageClassifierData.from_csv(PATH, folder='all_train', csv_fname=f'{PATH}all.csv',\n",
    "                                    tfms=tfms, val_idxs=val_idxs, test_name='test',  bs=64)"
   ]
  },
  {
   "cell_type": "code",
   "execution_count": 60,
   "metadata": {},
   "outputs": [
    {
     "name": "stdout",
     "output_type": "stream",
     "text": [
      "100%|██████████| 70/70 [00:47<00:00,  1.48it/s]\n",
      "100%|██████████| 18/18 [00:12<00:00,  1.47it/s]\n"
     ]
    }
   ],
   "source": [
    "learn = ConvLearner.pretrained(f_model, data, precompute=True)\n",
    "learn.models.model = torch.nn.DataParallel(learn.models.model,device_ids=list(range(0,8)))"
   ]
  },
  {
   "cell_type": "code",
   "execution_count": 61,
   "metadata": {},
   "outputs": [
    {
     "data": {
      "application/vnd.jupyter.widget-view+json": {
       "model_id": "fc9a21ba149444e39fcbdde69c92c307",
       "version_major": 2,
       "version_minor": 0
      },
      "text/plain": [
       "A Jupyter Widget"
      ]
     },
     "metadata": {},
     "output_type": "display_data"
    },
    {
     "name": "stdout",
     "output_type": "stream",
     "text": [
      "epoch      trn_loss   val_loss   <lambda>                  \n",
      "    0      0.362697   0.188608   0.971213  \n",
      "    1      0.165407   0.087126   0.97084                   \n",
      "    2      0.111804   0.07368    0.97464                   \n",
      "\n"
     ]
    },
    {
     "data": {
      "text/plain": [
       "[0.073680453, 0.97463991244633996]"
      ]
     },
     "execution_count": 61,
     "metadata": {},
     "output_type": "execute_result"
    }
   ],
   "source": [
    "learn.precompute=False\n",
    "lr = 1e-1\n",
    "learn.fit(lr, 3, cycle_len=1)"
   ]
  },
  {
   "cell_type": "code",
   "execution_count": 62,
   "metadata": {},
   "outputs": [
    {
     "data": {
      "application/vnd.jupyter.widget-view+json": {
       "model_id": "f08f6995de784cdd90a4f2354c476652",
       "version_major": 2,
       "version_minor": 0
      },
      "text/plain": [
       "A Jupyter Widget"
      ]
     },
     "metadata": {},
     "output_type": "display_data"
    },
    {
     "name": "stdout",
     "output_type": "stream",
     "text": [
      "epoch      trn_loss   val_loss   <lambda>                   \n",
      "    0      0.099397   0.076601   0.972621  \n",
      "    1      0.091033   0.069658   0.976241                   \n",
      "    2      0.081897   0.063747   0.976112                   \n",
      "    3      0.082546   0.058943   0.978562                   \n",
      "    4      0.078267   0.055298   0.979752                   \n",
      "    5      0.073417   0.057148   0.978492                   \n",
      "    6      0.074029   0.073976   0.972833                   \n",
      "    7      0.07547    0.077104   0.972113                   \n",
      "    8      0.085987   0.057699   0.978614                   \n",
      "    9      0.077271   0.05264    0.979951                   \n",
      "    10     0.072532   0.052074   0.980292                   \n",
      "    11     0.074565   0.051871   0.980478                   \n",
      "    12     0.072687   0.051245   0.980536                   \n",
      "    13     0.070677   0.05054    0.980613                   \n",
      "\n"
     ]
    },
    {
     "data": {
      "text/plain": [
       "[0.050540373, 0.98061343034108484]"
      ]
     },
     "execution_count": 62,
     "metadata": {},
     "output_type": "execute_result"
    }
   ],
   "source": [
    "learn.unfreeze()\n",
    "lr=np.array([lr/18,lr/6,lr/2])\n",
    "learn.fit(lr, 3, cycle_len=2, cycle_mult=2)"
   ]
  },
  {
   "cell_type": "code",
   "execution_count": 64,
   "metadata": {},
   "outputs": [
    {
     "name": "stdout",
     "output_type": "stream",
     "text": [
      "                                             \r"
     ]
    }
   ],
   "source": [
    "preds,y = learn.TTA()\n",
    "mean_logpreds = np.mean(preds, 0)\n",
    "max_preds = np.argmax(mean_logpreds, 1)"
   ]
  },
  {
   "cell_type": "code",
   "execution_count": 70,
   "metadata": {},
   "outputs": [],
   "source": [
    "y = np.argmax(y, 1)"
   ]
  },
  {
   "cell_type": "code",
   "execution_count": 71,
   "metadata": {
    "collapsed": true
   },
   "outputs": [],
   "source": [
    "def metrics(y, yhat, plot=False):\n",
    "    from sklearn.metrics import confusion_matrix\n",
    "    from sklearn.metrics import f1_score\n",
    "    from sklearn.metrics import accuracy_score\n",
    "    import matplotlib.pyplot as plt\n",
    "\n",
    "    cm = confusion_matrix(y, yhat)\n",
    "    f1 = f1_score(y, yhat, average='macro')\n",
    "    acc = accuracy_score(y, yhat)\n",
    "\n",
    "    if plot:\n",
    "        plt.matshow(cm)\n",
    "    return f1, acc, cm"
   ]
  },
  {
   "cell_type": "code",
   "execution_count": 72,
   "metadata": {},
   "outputs": [
    {
     "name": "stderr",
     "output_type": "stream",
     "text": [
      "/home/ubuntu/src/anaconda3/envs/fastai/lib/python3.6/site-packages/sklearn/metrics/classification.py:1135: UndefinedMetricWarning: F-score is ill-defined and being set to 0.0 in labels with no predicted samples.\n",
      "  'precision', 'predicted', average, warn_for)\n",
      "/home/ubuntu/src/anaconda3/envs/fastai/lib/python3.6/site-packages/sklearn/metrics/classification.py:1137: UndefinedMetricWarning: F-score is ill-defined and being set to 0.0 in labels with no true samples.\n",
      "  'recall', 'true', average, warn_for)\n"
     ]
    },
    {
     "data": {
      "text/plain": [
       "(0.5110853766604031,\n",
       " 0.80324909747292417,\n",
       " array([[ 45,   0,   0,   0,   0,   0,   5,   0,   0,   1,   0,  14,   0,   0,   0,   0,   0,   0,   0,   0,\n",
       "           1],\n",
       "        [  0,  94,   0,   1,   0,   0,   0,   0,   0,   1,   0,   0,   0,   0,   0,   0,   0,   0,   0,   0,\n",
       "           0],\n",
       "        [  0,   0,   0,   0,   1,  15,   0,   0,   0,   0,   0,   0,   0,   0,   0,   0,   0,   0,   0,   0,\n",
       "           0],\n",
       "        [  0,   0,   0,  58,   0,   0,   0,   0,   0,   0,   0,   0,   0,   0,   0,   0,   2,   0,   0,   0,\n",
       "           0],\n",
       "        [  0,   0,   0,   0,   0,   0,   3,   0,   0,   0,   0,   0,   0,   0,   0,   0,   0,   0,   0,   0,\n",
       "           0],\n",
       "        [  0,   0,   0,   1,   0, 105,   0,   0,   0,   0,   0,   0,   0,   0,   0,   0,   2,   0,   0,   0,\n",
       "           0],\n",
       "        [  1,   1,   0,   0,   0,   1,  45,   0,   0,   1,   0,   0,   0,   0,   0,   0,   0,   0,   0,   0,\n",
       "           1],\n",
       "        [  0,   0,   0,   0,   0,   0,   0,   0,   0,   0,   0,   0,   0,   0,   0,   0,   0,   0,  19,   0,\n",
       "           0],\n",
       "        [  0,   0,   0,   0,   0,   0,   0,   0,   0,  13,   0,   0,   0,   0,   0,   0,   0,   0,   0,   0,\n",
       "           0],\n",
       "        [  0,   0,   0,   1,   0,   3,   1,   0,   0,  82,   0,   1,   0,   0,   0,   0,   0,   0,   0,   0,\n",
       "           0],\n",
       "        [  4,   0,   0,   0,   0,   0,   0,   0,   0,   0,   0,  22,   0,   0,   0,   0,   0,   0,   0,   0,\n",
       "           0],\n",
       "        [ 21,   0,   0,   0,   0,   1,   0,   0,   0,   0,   0, 116,   0,   0,   0,   0,   0,   0,   0,   0,\n",
       "           1],\n",
       "        [  0,   0,   0,   0,   0,   0,   0,   0,   0,   1,   0,   1,  39,   0,   0,   0,   0,   0,   0,   0,\n",
       "           0],\n",
       "        [  0,   0,   0,   0,   0,   0,   0,   0,   0,   0,   0,   0,   0,  10,   0,   4,   8,   0,   0,   0,\n",
       "           0],\n",
       "        [  0,   0,   0,   1,   0,   0,   0,   0,   0,   0,   0,   0,   0,   0,   0,   0,   0,   9,   0,   0,\n",
       "           0],\n",
       "        [  0,   0,   0,   0,   0,   0,   0,   0,   0,   0,   0,   0,   0,   0,   0,   0,   0,   0,   0,   0,\n",
       "           0],\n",
       "        [  0,   0,   0,   0,   0,   1,   1,   0,   0,   0,   0,   0,   0,   8,   0,   1,  99,   0,   0,   0,\n",
       "           0],\n",
       "        [  0,   0,   0,   1,   0,   1,   0,   0,   0,   0,   0,   0,   0,   0,   0,   0,  11,  34,   0,   0,\n",
       "           0],\n",
       "        [  0,   0,   0,   0,   0,   0,   0,   0,   0,   0,   0,   1,   0,   0,   0,   0,   1,   0,  96,   0,\n",
       "           0],\n",
       "        [  0,   0,   0,   0,   0,   0,   0,   0,   0,   0,   0,   0,   0,   0,   0,   0,   0,   0,   0,   0,\n",
       "          19],\n",
       "        [  0,   0,   0,   2,   0,   1,   0,   0,   0,   5,   0,   0,   1,   0,   0,   0,   1,   0,   0,   0,\n",
       "          67]]))"
      ]
     },
     "execution_count": 72,
     "metadata": {},
     "output_type": "execute_result"
    },
    {
     "data": {
      "image/png": "[encoded data removed]",
      "text/plain": [
       "<matplotlib.figure.Figure at 0x7f6cfb586ba8>"
      ]
     },
     "metadata": {},
     "output_type": "display_data"
    }
   ],
   "source": [
    "metrics(y, max_preds, True)"
   ]
  },
  {
   "cell_type": "code",
   "execution_count": null,
   "metadata": {
    "collapsed": true
   },
   "outputs": [],
   "source": []
  },
  {
   "cell_type": "code",
   "execution_count": 51,
   "metadata": {
    "collapsed": true
   },
   "outputs": [],
   "source": [
    "learn.save(f'resnet_50_all_{sz}')"
   ]
  },
  {
   "cell_type": "code",
   "execution_count": 50,
   "metadata": {
    "collapsed": true
   },
   "outputs": [],
   "source": [
    "log_preds_test = learn.predict(is_test=True)\n",
    "max_preds = np.argmax(log_preds_test, 1)"
   ]
  },
  {
   "cell_type": "code",
   "execution_count": 52,
   "metadata": {
    "collapsed": true
   },
   "outputs": [],
   "source": [
    "preds_classes = [data.classes[i].replace(\"_\", \" \") for i in max_preds]\n",
    "submission = pd.DataFrame({'file': os.listdir(f'{PATH}test'), 'species': preds_classes})\n",
    "submission.to_csv(PATH + 'submission_resnet_50_all.csv', index=False)"
   ]
  },
  {
   "cell_type": "code",
   "execution_count": null,
   "metadata": {
    "collapsed": true
   },
   "outputs": [],
   "source": []
  }
 ],
 "metadata": {
  "kernelspec": {
   "display_name": "Python 3",
   "language": "python",
   "name": "python3"
  },
  "language_info": {
   "codemirror_mode": {
    "name": "ipython",
    "version": 3
   },
   "file_extension": ".py",
   "mimetype": "text/x-python",
   "name": "python",
   "nbconvert_exporter": "python",
   "pygments_lexer": "ipython3",
   "version": "3.6.3"
  }
 },
 "nbformat": 4,
 "nbformat_minor": 2
}
